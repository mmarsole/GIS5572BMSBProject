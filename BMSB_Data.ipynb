{
 "cells": [
  {
   "cell_type": "markdown",
   "metadata": {},
   "source": [
    "# Outline:\n",
    "## Attaining Relevant Data for BMSB data\n",
    "1. ETL grab \"City, Township, and Unorganized Territory in Minnesota\" and \"Brown Marmorated Stink Bug Survey Data, Minnesota\" \n",
    "2. QAQC protocols:\n",
    "    - check CRS (convert to 4326)\n",
    "    - indenfity duplicate cities (sum their populations)\n",
    "3. Create a 'Near Table' (calculates distance between cities)"
   ]
  },
  {
   "cell_type": "code",
   "execution_count": 2,
   "metadata": {},
   "outputs": [],
   "source": [
    "import arcpy\n",
    "import requests\n",
    "import json\n",
    "import pprint\n",
    "import zipfile\n",
    "from arcpy import env\n",
    "\n",
    "#set working environment (where i want all my data to be saved to)\n",
    "env.workspace = \"D:\\Spring_2022\\AcGIS2\\lab4\\lab4_start1a\\lab4_start1a.gdb\""
   ]
  },
  {
   "cell_type": "markdown",
   "metadata": {},
   "source": [
    "### 1. ETL grab: "
   ]
  },
  {
   "cell_type": "code",
   "execution_count": 3,
   "metadata": {},
   "outputs": [],
   "source": [
    "def grab_MNgeo(desired_tag): \n",
    "    '''\n",
    "    will return a list of files, which you must sift through to find location of desired zip file\n",
    "    '''\n",
    "    #intializing request\n",
    "    base_url = \"http://gisdata.mn.gov/api/3/action/package_search?q=\"\n",
    "    package_information_url = base_url + desired_tag\n",
    "\n",
    "    #requesting all information associated with tag from MN Geo Commons\n",
    "    package_information = requests.get(package_information_url, auth = ('user', 'pass'), verify = False)\n",
    "\n",
    "    #converting all the information to a json dictionary\n",
    "    package_dict = json.loads(package_information.content)\n",
    "\n",
    "    #diving into the json dictionary with the hopes of locating my desired data\n",
    "    package_dict_result = package_dict[\"result\"]['results']\n",
    "\n",
    "    return package_dict_result"
   ]
  },
  {
   "cell_type": "code",
   "execution_count": 4,
   "metadata": {},
   "outputs": [
    {
     "name": "stderr",
     "output_type": "stream",
     "text": [
      "C:\\Users\\runac\\Downloads\\Spring_2022\\ArcGIS2\\Alternative_pro_envs\\arcgispro-py3-5572_lab1\\lib\\site-packages\\urllib3\\connectionpool.py:1050: InsecureRequestWarning: Unverified HTTPS request is being made to host 'gisdata.mn.gov'. Adding certificate verification is strongly advised. See: https://urllib3.readthedocs.io/en/1.26.x/advanced-usage.html#ssl-warnings\n",
      "  InsecureRequestWarning,\n"
     ]
    }
   ],
   "source": [
    "def extract_unzip(dictionary, location_idx, exit_location):\n",
    "    '''\n",
    "    Need to provide the 'local' of desired file from grab_MNgeo() ouput as a list with two number values (location_idx),\n",
    "    the returned output of grab_MNgeo() (dictionary), \n",
    "    and the desired location you want to file as a string (exit_location).  \n",
    "    '''\n",
    "    ## Finally downloading the data\n",
    "    r =requests.get(dictionary[location_idx[0]]['resources'][location_idx[1]][\"url\"])\n",
    "    text = dictionary[location_idx[0]]['resources'][location_idx[1]][\"url\"]\n",
    "    sliced = text.split(\"/\")\n",
    "    open(sliced[-1], 'wb').write(r.content)\n",
    "    print(f\"extracting {sliced[-1]}...\")\n",
    "\n",
    "    #unzipping and saving the data files to a folder within my current working directory\n",
    "    with zipfile.ZipFile(sliced[-1], 'r') as zip_ref:\n",
    "        zip_ref.extractall(exit_location)\n",
    "    print('Done!')"
   ]
  },
  {
   "cell_type": "code",
   "execution_count": 5,
   "metadata": {},
   "outputs": [],
   "source": [
    "def count_features_in_layers(featurefile):\n",
    "    '''\n",
    "    Useful function that will count number of rows in any given shapefile\n",
    "    '''\n",
    "    ## I now want to know how many points there are in my shapefile:\n",
    "    lyrfile = featurefile\n",
    "    result = arcpy.GetCount_management(lyrfile) #returns the number of rows in my shapefile\n",
    "    print('{} has {} records'.format(lyrfile, result[0]))\n",
    "    "
   ]
  },
  {
   "cell_type": "markdown",
   "metadata": {},
   "source": [
    "### extracting 2 files from MNGeo\n",
    "* using grab_MNgeo() and extract_unzip() "
   ]
  },
  {
   "cell_type": "code",
   "execution_count": 6,
   "metadata": {},
   "outputs": [
    {
     "name": "stderr",
     "output_type": "stream",
     "text": [
      "C:\\Users\\runac\\Downloads\\Spring_2022\\ArcGIS2\\Alternative_pro_envs\\arcgispro-py3-5572_lab1\\lib\\site-packages\\urllib3\\connectionpool.py:1050: InsecureRequestWarning: Unverified HTTPS request is being made to host 'gisdata.mn.gov'. Adding certificate verification is strongly advised. See: https://urllib3.readthedocs.io/en/1.26.x/advanced-usage.html#ssl-warnings\n",
      "  InsecureRequestWarning,\n"
     ]
    },
    {
     "name": "stdout",
     "output_type": "stream",
     "text": [
      "extracting shp_biota_bmsb.zip...\n",
      "Done!\n"
     ]
    },
    {
     "name": "stderr",
     "output_type": "stream",
     "text": [
      "C:\\Users\\runac\\Downloads\\Spring_2022\\ArcGIS2\\Alternative_pro_envs\\arcgispro-py3-5572_lab1\\lib\\site-packages\\urllib3\\connectionpool.py:1050: InsecureRequestWarning: Unverified HTTPS request is being made to host 'gisdata.mn.gov'. Adding certificate verification is strongly advised. See: https://urllib3.readthedocs.io/en/1.26.x/advanced-usage.html#ssl-warnings\n",
      "  InsecureRequestWarning,\n"
     ]
    },
    {
     "name": "stdout",
     "output_type": "stream",
     "text": [
      "extracting fgdb_bdry_mn_city_township_unorg.zip...\n",
      "Done!\n"
     ]
    }
   ],
   "source": [
    "#downloading and unzipping \"Brown Marmorated Stink Bug Survey Data, Minnesota\" data\n",
    "MN_dict0 = grab_MNgeo(\"bmsb brown marmorated stink bug\")\n",
    "extract_unzip(MN_dict0, [0,0], r'D:\\Spring_2022\\AcGIS2\\lab4\\lab4_start1a\\test_folder')\n",
    "\n",
    "# #downloading and unzipping \"City, Township, and Unorganized Territory in Minnesota\" data\n",
    "MN_dict1 = grab_MNgeo(\"civil township boundary\")\n",
    "extract_unzip(MN_dict1, [3,2], r'D:\\Spring_2022\\AcGIS2\\lab4\\lab4_start1a\\test_folder')"
   ]
  },
  {
   "cell_type": "markdown",
   "metadata": {},
   "source": [
    "### 2. QAQC protocols (city/population data):\n",
    "a.  Convert BMSB table to Point Layers\n",
    "    * create a new column (\"All\") that sums \"Adults\" and \"Nymphs\" then create a \"ground_truth\" column based on \"All\"\n",
    "\n",
    "b.  Editing \"City, Township, and Unorganized Territory in Minnesota\"\n",
    "    * convert CRS to 4326\n",
    "    * selecting only cities (excludes other territories and townships) and remove unnecessary fields/cols\n",
    "    * indentify duplicate cities (sum their populations and then merge the poylgons)\n",
    "    * convert city data to points (after Spatial Join!)\n",
    "    \n",
    "c. Spatial join of BMSB data to MN_Cities_WGS data (currently polygon) to assign BMSB to relevant/closet cities\n",
    "    * appends a new column, \"City_SJ\", to BMSB \n"
   ]
  },
  {
   "cell_type": "markdown",
   "metadata": {},
   "source": [
    "## BMSB data"
   ]
  },
  {
   "cell_type": "code",
   "execution_count": 7,
   "metadata": {},
   "outputs": [
    {
     "data": {
      "text/html": [
       "<div class='gpresult'><h2>Messages</h2><div id='messages' data-messages='[\"Start Time: Tuesday, May 3, 2022 11:20:35 AM\",\"Succeeded at Tuesday, May 3, 2022 11:20:42 AM (Elapsed Time: 7.31 seconds)\"]' data-show='true'><div id = 'default' /></div></div>"
      ],
      "text/plain": [
       "<Result 'BMSBSurveyDataTable_Points'>"
      ]
     },
     "execution_count": 7,
     "metadata": {},
     "output_type": "execute_result"
    }
   ],
   "source": [
    "## Convert BMSB table to Point Layers\n",
    "arcpy.management.XYTableToPoint(\"BMSBSurveyDataTable\", \n",
    "                                r\"D:\\Spring_2022\\AcGIS2\\lab4\\lab4_start1a\\lab4_start1a.gdb\\BMSBSurveyDataTable_Points\", \n",
    "                                \"Longitude\", \n",
    "                                \"Latitude\", \n",
    "                                None, \n",
    "                                'GEOGCS[\"GCS_WGS_1984\",DATUM[\"D_WGS_1984\",SPHEROID[\"WGS_1984\",6378137.0,298.257223563]],PRIMEM[\"Greenwich\",0.0],UNIT[\"Degree\",0.0174532925199433]];-400 -400 1000000000;-100000 10000;-100000 10000;8.98315284119521E-09;0.001;0.001;IsHighPrecision')\n",
    "\n",
    "#createing a new column that sums the results of \"Adults\" and \"Nymphs\"\n",
    "arcpy.management.CalculateField(\"BMSBSurveyDataTable_Points\", \"ALL\", \"!Adults! + !Nymphs!\", \"PYTHON3\", '', \"SHORT\", \"NO_ENFORCE_DOMAINS\")\n",
    "\n",
    "#creating a ground truth column based on the \"ALL\" and uses the following 'codeblock' to populate \"G_Truth\"\n",
    "codeblock = \"\"\"\n",
    "def getClass(column):\n",
    "    if int(column) == 0:\n",
    "        return 0\n",
    "    elif int(column) >= 1:\n",
    "        return 1\"\"\"    \n",
    "\n",
    "arcpy.management.CalculateField(\"BMSBSurveyDataTable_Points\", \"G_Truth\", \"getClass(!ALL!)\", \"PYTHON3\", codeblock, \"SHORT\", \"NO_ENFORCE_DOMAINS\")\n",
    "\n",
    "#delete unneeded columns within BMSB data (keep: \"City;Year;CheckDate;Adults;Nymphs;ALL;G_Truth\")\n",
    "arcpy.management.DeleteField(\"BMSBSurveyDataTable_Points\", \"City;Year;CheckDate;Adults;Nymphs;ALL;G_Truth\", \"KEEP_FIELDS\")"
   ]
  },
  {
   "cell_type": "markdown",
   "metadata": {},
   "source": [
    "## MN_Cities_data"
   ]
  },
  {
   "cell_type": "code",
   "execution_count": 20,
   "metadata": {},
   "outputs": [
    {
     "data": {
      "text/html": [
       "<div class='gpresult'><h2>Messages</h2><div id='messages' data-messages='[\"Start Time: Tuesday, May 3, 2022 12:09:28 PM\",\"Succeeded at Tuesday, May 3, 2022 12:09:28 PM (Elapsed Time: 0.69 seconds)\"]' data-show='true'><div id = 'default' /></div></div>"
      ],
      "text/plain": [
       "<Result 'MN_Cities_dis_WGS'>"
      ]
     },
     "execution_count": 20,
     "metadata": {},
     "output_type": "execute_result"
    }
   ],
   "source": [
    "#saves just the polygons for cities within MN\n",
    "arcpy.conversion.FeatureClassToFeatureClass(\"SDW_GOVNT.CITY_TOWNSHIP_UNORG_TERR\", \"D:\\Spring_2022\\AcGIS2\\lab4\\lab4_start1a\", \"MN_Cities.shp\", \"\"\" \"CTU_CLASS\" = 'CITY'\"\"\")\n",
    "\n",
    "#converts \"MN_Cities\" spatial reference system to 4326\n",
    "out_coordinate_system = arcpy.SpatialReference(4326)\n",
    "arcpy.Project_management(\"MN_Cities\", 'MN_Cities_WGS', out_coordinate_system)\n",
    "\n",
    "# make a new field then copy the old field values into the new one (enables me to rename 'Feature_NA' to 'City_SJ')\n",
    "#Note, named 'CITY_SJ' since you cannot spatial join (later) columns names when they are idenitcal\n",
    "arcpy.management.CalculateField(\"MN_Cities_WGS\", \"CITY_SJ\", \"!FEATURE_NA!\", \"PYTHON3\", '', \"TEXT\", \"NO_ENFORCE_DOMAINS\")\n",
    "\n",
    "#delete unnecessary columns\n",
    "arcpy.management.DeleteField(\"MN_Cities_WGS\", \"CITY_SJ;POPULATION\", \"KEEP_FIELDS\")\n",
    "\n",
    "#removing duplicates cities by disolving the polygons that have the same 'CITY_SJ' \n",
    "#Simultaneously summing population for duplicate cities and udating the 'POPULATION' column\n",
    "arcpy.management.Dissolve(\"MN_Cities_WGS\", \"MN_Cities_dis_WGS\", \n",
    "                          \"CITY_SJ\", [[\"POPULATION\", 'SUM']], \n",
    "                         \"MULTI_PART\", \"DISSOLVE_LINES\")\n",
    "\n",
    "# make a new field then copy the old field values into the new one (enables me to rename 'Sum_Population' to 'POPULATION')\n",
    "arcpy.management.CalculateField(\"MN_Cities_dis_WGS\", \"POPULATION\", \"!SUM_POPULATION!\", \"PYTHON3\", '', \"LONG\", \"NO_ENFORCE_DOMAINS\")\n",
    "\n",
    "#delete unnecessary columns ('SUM_POPULA')\n",
    "arcpy.management.DeleteField(\"MN_Cities_dis_WGS\", \"CITY_SJ;POPULATION\", \"KEEP_FIELDS\")\n",
    "\n",
    "#result: \"MN_Cities_dis_WGS\" as poylgon data"
   ]
  },
  {
   "cell_type": "code",
   "execution_count": 22,
   "metadata": {},
   "outputs": [
    {
     "name": "stdout",
     "output_type": "stream",
     "text": [
      "MN_Cities_WGS.shp has 903 records\n",
      "MN_Cities_dis_WGS has 853 records\n"
     ]
    }
   ],
   "source": [
    "#Let's check the results: if our duplicate cities successfully merged, should now have 853 Cities\n",
    "count_features_in_layers(\"MN_Cities_WGS.shp\") #still has duplicate cities...\n",
    "count_features_in_layers(\"MN_Cities_dis_WGS\") #success"
   ]
  },
  {
   "cell_type": "markdown",
   "metadata": {},
   "source": [
    "## spatial join:\n",
    "* ensuring that i append the new city designation to the table, appends the sum_population and new city labels (CITY_SJ) to the BMSB data "
   ]
  },
  {
   "cell_type": "code",
   "execution_count": 23,
   "metadata": {},
   "outputs": [
    {
     "data": {
      "text/html": [
       "<div class='gpresult'><h2>Messages</h2><div id='messages' data-messages='[\"Start Time: Tuesday, May 3, 2022 12:20:39 PM\",\"Succeeded at Tuesday, May 3, 2022 12:20:45 PM (Elapsed Time: 6.28 seconds)\"]' data-show='true'><div id = 'default' /></div></div>"
      ],
      "text/plain": [
       "<Result 'D:\\\\Spring_2022\\\\AcGIS2\\\\lab41\\\\lab4_start1\\\\BMSB_Pts_SJ.shp'>"
      ]
     },
     "execution_count": 23,
     "metadata": {},
     "output_type": "execute_result"
    }
   ],
   "source": [
    "#outputs a layer with MN_CITIES_dis_WGS columns (CITY_SJ, and Population) append to BMSB data\n",
    "targetFeatures = \"BMSBSurveyDataTable_Points\"\n",
    "joinFeatures = \"MN_Cities_dis_WGS\"\n",
    "outfc =  r\"D:\\Spring_2022\\AcGIS2\\lab41\\lab4_start1\\BMSB_Pts_SJ\"\n",
    "\n",
    "# Create a new fieldmappings and add the two input feature classes. (this appends the columns from joinFeatures)\n",
    "fieldmappings = arcpy.FieldMappings()\n",
    "fieldmappings.addTable(targetFeatures)\n",
    "fieldmappings.addTable(joinFeatures)\n",
    " \n",
    "#Run the Spatial Join tool, using the defaults for the join operation and join type\n",
    "#used, \"CLOSEST\":joins features that is closest to a target feature via planar distance\n",
    "arcpy.SpatialJoin_analysis(targetFeatures, joinFeatures, outfc, \"#\", \"#\", fieldmappings, \"CLOSEST_GEODESIC\")"
   ]
  },
  {
   "cell_type": "markdown",
   "metadata": {},
   "source": [
    "### Add 'BSMB_Sim[X]' fields to 'MN_Cities_dis_WGS' to record BMSB Presence (1) or Absence (0) in simulations\n",
    "\n",
    "the 'BSMB_Sim[X]' fields will be populated during the Huff Model simulations (within the 'BMSB-Simulation' Notebook)"
   ]
  },
  {
   "cell_type": "code",
   "execution_count": 24,
   "metadata": {},
   "outputs": [
    {
     "data": {
      "text/html": [
       "<div class='gpresult'><h2>Messages</h2><div id='messages' data-messages='[\"Start Time: Tuesday, May 3, 2022 12:23:38 PM\",\"Adding Rank to MN_Cities_Pts_WGS...\",\"Succeeded at Tuesday, May 3, 2022 12:23:38 PM (Elapsed Time: 0.31 seconds)\"]' data-show='true'><div id = 'default' /></div></div>"
      ],
      "text/plain": [
       "<Result 'MN_Cities_Pts_WGS'>"
      ]
     },
     "execution_count": 24,
     "metadata": {},
     "output_type": "execute_result"
    }
   ],
   "source": [
    "#convert each City to points (has been poylgons until now):\n",
    "arcpy.management.FeatureToPoint(\"MN_Cities_dis_WGS\", \"MN_Cities_Pts_WGS.shp\", \"CENTROID\")\n",
    "\n",
    "#Note: error:  The length of Field Name must not be larger than 10 --an issue only for \"BMSB_Sim100\"\n",
    "for i in range(0,100):\n",
    "    fieldname = \"BMSB_Sim\"+str(i)\n",
    "    arcpy.management.AddField(\"MN_Cities_Pts_WGS\", fieldname, \"SHORT\", 1, None, None, '', \"NULLABLE\", \"NON_REQUIRED\", '')\n",
    "\n",
    "#adding accuracy/confusion matrix columns to sum for each cities 100 simulations\n",
    "col_list = ['overall_TP', 'overall_FP', 'overall_FN', 'overall_TN']\n",
    "for name in col_list:\n",
    "    arcpy.management.AddField(\"MN_Cities_Pts_WGS\", name, \"SHORT\", 3, None, None, '', \"NULLABLE\", \"NON_REQUIRED\", '')\n",
    "    \n",
    "#creating a new column that calculates ranking each city based on its FP, and \n",
    "arcpy.management.AddField(\"MN_Cities_Pts_WGS\", \"Presence\", \"DOUBLE\", None, None, None, '', \"NULLABLE\", \"NON_REQUIRED\", '')\n",
    "    \n",
    "#creating a new column that calculates the Accuracy for each cities' predictions\n",
    "arcpy.management.AddField(\"MN_Cities_Pts_WGS\", \"Accuracy\", \"DOUBLE\", None, None, None, '', \"NULLABLE\", \"NON_REQUIRED\", '')\n",
    "\n",
    "#creating a new column that calculates ranking each city based on its FP, and \n",
    "arcpy.management.AddField(\"MN_Cities_Pts_WGS\", \"Rank\", \"SHORT\", 3, None, None, '', \"NULLABLE\", \"NON_REQUIRED\", '')\n"
   ]
  },
  {
   "cell_type": "markdown",
   "metadata": {},
   "source": [
    "### Generate Cities Near Table\n",
    "\n",
    "This table returns a table with the distance of each city to every other city within MN. Duplicate city pairs have been deleted (city1 to city2 is the duplicate of city2 to city1). This table is nessecary for Huff model calulations (in 'BMSB-Simulation' Folder). "
   ]
  },
  {
   "cell_type": "code",
   "execution_count": 25,
   "metadata": {},
   "outputs": [
    {
     "data": {
      "text/html": [
       "<div class='gpresult'><h2>Messages</h2><div id='messages' data-messages='[\"Start Time: Tuesday, May 3, 2022 12:26:22 PM\",\"Succeeded at Tuesday, May 3, 2022 12:26:38 PM (Elapsed Time: 15.70 seconds)\"]' data-show='true'><div id = 'default' /></div></div>"
      ],
      "text/plain": [
       "<Result 'MN_Cities_Pts_NearTable'>"
      ]
     },
     "execution_count": 25,
     "metadata": {},
     "output_type": "execute_result"
    }
   ],
   "source": [
    "#code makes a table for every city pair\n",
    "arcpy.analysis.GenerateNearTable(\"MN_Cities_Pts_WGS\", \"MN_Cities_Pts_WGS\", \"MN_Cities_Pts_NearTable\", None, \"NO_LOCATION\", \"NO_ANGLE\", \"ALL\", 1000, \"GEODESIC\")\n",
    "\n",
    "#delete column \"NEAR_RANK\"\n",
    "arcpy.management.DeleteField(\"MN_Cities_Pts_NearTable\", \"NEAR_RANK\", \"DELETE_FIELDS\")"
   ]
  },
  {
   "cell_type": "code",
   "execution_count": 26,
   "metadata": {},
   "outputs": [
    {
     "name": "stdout",
     "output_type": "stream",
     "text": [
      "Duplicates removed\n",
      "363378\n"
     ]
    }
   ],
   "source": [
    "# Delete duplicate pairs of cities\n",
    "\n",
    "#set fields and feature class\n",
    "fields = ('IN_FID', 'NEAR_FID', 'NEAR_DIST')\n",
    "fc = \"MN_Cities_Pts_NearTable\"\n",
    "\n",
    "rowcount = 1\n",
    "with arcpy.da.UpdateCursor(fc, fields, sql_clause=(None, 'ORDER BY NEAR_DIST ASC')) as cursor:\n",
    "    for row in cursor:\n",
    "        if (rowcount % 2) == 0:\n",
    "            cursor.deleteRow()\n",
    "        rowcount += 1\n",
    "            \n",
    "print(\"Duplicates removed\")\n",
    "print(arcpy.management.GetCount(\"MN_Cities_Pts_NearTable\"))"
   ]
  },
  {
   "cell_type": "code",
   "execution_count": 27,
   "metadata": {},
   "outputs": [
    {
     "data": {
      "text/html": [
       "<div class='gpresult'><h2>Messages</h2><div id='messages' data-messages='[\"Start Time: Tuesday, May 3, 2022 12:44:40 PM\",\"Succeeded at Tuesday, May 3, 2022 12:44:41 PM (Elapsed Time: 0.68 seconds)\"]' data-show='true'><div id = 'default' /></div></div>"
      ],
      "text/plain": [
       "<Result 'MN_Cities_Pts_NearTable'>"
      ]
     },
     "execution_count": 27,
     "metadata": {},
     "output_type": "execute_result"
    }
   ],
   "source": [
    "#city 1: adding the city name fields (easier to read the name of the city istead of its FID)\n",
    "arcpy.management.JoinField(\"MN_Cities_Pts_NearTable\", \"IN_FID\", \"MN_Cities_Pts_WGS\", \"FID\", \"CITY_SJ\")\n",
    "arcpy.management.AlterField(\"MN_Cities_Pts_NearTable\", \"CITY_SJ\", \"CITY_1\", \"CITY_1\", \"TEXT\", 512, \"NULLABLE\", \"DO_NOT_CLEAR\")\n",
    "#city2\n",
    "arcpy.management.JoinField(\"MN_Cities_Pts_NearTable\", \"NEAR_FID\", \"MN_Cities_Pts_WGS\", \"FID\", \"CITY_SJ\")\n",
    "arcpy.management.AlterField(\"MN_Cities_Pts_NearTable\", \"CITY_SJ\", \"CITY_2\", \"CITY_2\", \"TEXT\", 512, \"NULLABLE\", \"DO_NOT_CLEAR\")"
   ]
  },
  {
   "cell_type": "code",
   "execution_count": null,
   "metadata": {},
   "outputs": [],
   "source": [
    "# adds probability column to near table\n",
    "# ONLY RUN ONCE\n",
    "fc = 'MN_Cities_Pts_NearTable'\n",
    "arcpy.management.AddField(fc, \"TransProb\", \"DOUBLE\", None, None, None, \"TransProb\", \"NULLABLE\", \"NON_REQUIRED\", '')"
   ]
  },
  {
   "cell_type": "code",
   "execution_count": 34,
   "metadata": {},
   "outputs": [
    {
     "data": {
      "text/html": [
       "<div class='gpresult'><h2>Messages</h2><div id='messages' data-messages='[\"Start Time: Tuesday, May 3, 2022 1:00:41 PM\",\"Succeeded at Tuesday, May 3, 2022 1:00:41 PM (Elapsed Time: 0.61 seconds)\"]' data-show='true'><div id = 'default' /></div></div>"
      ],
      "text/plain": [
       "<Result 'MN_Cities_Pts_NearTable'>"
      ]
     },
     "execution_count": 34,
     "metadata": {},
     "output_type": "execute_result"
    }
   ],
   "source": [
    "#JOIN CITY_1 population to near table\n",
    "arcpy.management.JoinField(\"MN_Cities_Pts_NearTable\", \"CITY_1\", \"MN_Cities_Pts_WGS\", \"CITY_SJ\", \"POPULATION\")\n",
    "arcpy.management.AlterField(\"MN_Cities_Pts_NearTable\", \"POPULATION\", \"CITY_1_POP\", \"CITY_1_POP\", \"LONG\", 4, \"NULLABLE\", \"DO_NOT_CLEAR\")\n",
    "\n",
    "#JOIN CITY_2 population to near table\n",
    "arcpy.management.JoinField(\"MN_Cities_Pts_NearTable\", \"CITY_2\", \"MN_Cities_Pts_WGS\", \"CITY_SJ\", \"POPULATION\")\n",
    "arcpy.management.AlterField(\"MN_Cities_Pts_NearTable\", \"POPULATION\", \"CITY_2_POP\", 'CITY_2_POP', \"LONG\", 4, \"NULLABLE\", \"DO_NOT_CLEAR\")"
   ]
  }
 ],
 "metadata": {
  "kernelspec": {
   "display_name": "ArcGISPro",
   "language": "Python",
   "name": "python3"
  },
  "language_info": {
   "file_extension": ".py",
   "name": "python",
   "version": "3"
  }
 },
 "nbformat": 4,
 "nbformat_minor": 2
}
